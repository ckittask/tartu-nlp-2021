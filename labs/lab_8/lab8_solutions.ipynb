{
  "nbformat": 4,
  "nbformat_minor": 0,
  "metadata": {
    "colab": {
      "name": "lab8.ipynb",
      "provenance": [],
      "collapsed_sections": []
    },
    "kernelspec": {
      "name": "python3",
      "display_name": "Python 3"
    },
    "language_info": {
      "name": "python"
    }
  },
  "cells": [
    {
      "cell_type": "markdown",
      "metadata": {
        "id": "154diMX4Hd9w"
      },
      "source": [
        "## Lab 8. Data Annotation Evaluation\n",
        "\n",
        "Welcome to Lab 8! \n",
        "\n",
        "Today we will be looking at how to evaluate the goodness of the annotations made by the raters. We call it inter-annotator agreement, which measures how well two or more annotators can make the same annotation decision for a certain category.  Well known measures are percentage agreement, Cohen's Kappa, Fleiss' Kappa, Krippendorff's Alpha. High inter-annotator reliability values refer to a high degree of agreement between two or more raters. Low inter-rater reliability values refer to a low degree of agreement between two or more raters. \n",
        "\n",
        "__Questions:__\n",
        "1. Why do we need to measure the reliability of the annotations? \n",
        "2. What could be the reason why annotators disagree? \n",
        "3. If we have two annotators and they both disagree on one sample, what class/label/etc should we use as the final class/label/etc? Should we prefer one annotator over the other? \n",
        "4. Why is it not a good idea to use percent agreement (no_of_agreements/total) to determine interrater reliability? \n",
        "\n"
      ]
    },
    {
      "cell_type": "markdown",
      "metadata": {
        "id": "U3RaEG0sIOMo"
      },
      "source": [
        "### Cohen's Kappa \n",
        "\n",
        "[Cohen's kappa](https://en.wikipedia.org/wiki/Cohen%27s_kappa) ($\\kappa$) is coefficient  that is used to measure inter-rater reliability for categorical items. \n",
        "\n",
        "$$\\kappa = \\frac{p_o-p_e}{1-p_e}=1-\\frac{1-p_o}{1-p_e}$$\n",
        "Here, $p_o$ is relative observed agreement among raters. $p_e$ is the hypothetical probability of chance agreement. When raters completely agree with each other then $\\kappa=1$, if there is no agreement among the raters other than what would be expected by chance then $\\kappa=0$. \n",
        "\n",
        "NB! Cohen's kappa measures agreement between two raters only. If there are more than two raters, we would have to use some other measure. \n",
        "\n",
        "<img src=\"https://miro.medium.com/max/700/1*-epOFf318-TTB70lvFejzA.png\">\n",
        "\n",
        "Image from [Medium](https://towardsdatascience.com/cohens-kappa-9786ceceab58)\n",
        "\n",
        "\n",
        "Let's try to calculate Cohen's Kappa for our annotations. \n"
      ]
    },
    {
      "cell_type": "markdown",
      "metadata": {
        "id": "7fkebOysHzXG"
      },
      "source": [
        "### Annotation Data\n",
        "\n",
        "Let's first create some random and not so random annotation. For each case we have two annotators who classified samples into two classes - CORRECT and INCORRECT. We are going to calculate how reliabe the annotations are for both cases. "
      ]
    },
    {
      "cell_type": "code",
      "metadata": {
        "id": "JFlwcGAMH7zH"
      },
      "source": [
        "import random \n",
        "random_annotator1 = random.choices(['INCORRECT', 'CORRECT'], k=100)\n",
        "random_annotator2 = random.choices(['INCORRECT', 'CORRECT'], k=100)\n",
        "\n",
        "\n",
        "good_annotator1 = ['INCORRECT'] * 50 + ['CORRECT'] * 25 + ['INCORRECT'] * 5 + ['CORRECT'] * 20 \n",
        "good_annotator2 = ['INCORRECT'] * 50 + ['CORRECT'] * 25 + ['INCORRECT'] * 5 + ['CORRECT'] * 15 + ['INCORRECT'] * 5 \n"
      ],
      "execution_count": null,
      "outputs": []
    },
    {
      "cell_type": "markdown",
      "metadata": {
        "id": "LYGL6k-8CwNw"
      },
      "source": [
        "\n",
        "Let's visualize the annotations using confusion matrix. With confusion matrix, we can see how much the annotators agreed and disagreed. "
      ]
    },
    {
      "cell_type": "code",
      "metadata": {
        "id": "qK_wQXlPJjFR"
      },
      "source": [
        "from sklearn.metrics import confusion_matrix \n"
      ],
      "execution_count": null,
      "outputs": []
    },
    {
      "cell_type": "code",
      "metadata": {
        "id": "_2hvEDCTDfnF"
      },
      "source": [
        "good_cm = confusion_matrix(good_annotator1, good_annotator2)\n",
        "random_cm = confusion_matrix(random_annotator1, random_annotator2)"
      ],
      "execution_count": null,
      "outputs": []
    },
    {
      "cell_type": "code",
      "metadata": {
        "colab": {
          "base_uri": "https://localhost:8080/",
          "height": 312
        },
        "id": "aJz-9k64O0Wl",
        "outputId": "2671a1be-1f85-4bb4-c00e-7ba45aebc7a8"
      },
      "source": [
        "import seaborn as sns\n",
        "import matplotlib.pyplot as plt     \n",
        "\n",
        "ax= plt.subplot()\n",
        "sns.heatmap(good_cm, annot=True, fmt='g', ax=ax); \n",
        "\n",
        "\n",
        "ax.set_xlabel('Annotator 2')\n",
        "ax.set_ylabel('Annotator 1')\n",
        "ax.set_title('Confusion Matrix')\n",
        "ax.xaxis.set_ticklabels(['CORRECT', 'INCORRECT'])\n",
        "ax.yaxis.set_ticklabels(['CORRECT', 'INCORRECT'])"
      ],
      "execution_count": null,
      "outputs": [
        {
          "output_type": "execute_result",
          "data": {
            "text/plain": [
              "[Text(0, 0.5, 'CORRECT'), Text(0, 1.5, 'INCORRECT')]"
            ]
          },
          "metadata": {
            "tags": []
          },
          "execution_count": 5
        },
        {
          "output_type": "display_data",
          "data": {
            "image/png": "[encoded data removed]",
            "text/plain": [
              "<Figure size 432x288 with 2 Axes>"
            ]
          },
          "metadata": {
            "tags": [],
            "needs_background": "light"
          }
        }
      ]
    },
    {
      "cell_type": "code",
      "metadata": {
        "colab": {
          "base_uri": "https://localhost:8080/",
          "height": 312
        },
        "id": "cRP1BUa1DoH8",
        "outputId": "115e50ed-823e-46bf-eb68-2500a63517dd"
      },
      "source": [
        "ax= plt.subplot()\n",
        "sns.heatmap(random_cm, annot=True, fmt='g', ax=ax); \n",
        "\n",
        "\n",
        "ax.set_xlabel('Annotator 2')\n",
        "ax.set_ylabel('Annotator 1')\n",
        "ax.set_title('Confusion Matrix')\n",
        "ax.xaxis.set_ticklabels(['CORRECT', 'INCORRECT'])\n",
        "ax.yaxis.set_ticklabels(['CORRECT', 'INCORRECT'])"
      ],
      "execution_count": null,
      "outputs": [
        {
          "output_type": "execute_result",
          "data": {
            "text/plain": [
              "[Text(0, 0.5, 'CORRECT'), Text(0, 1.5, 'INCORRECT')]"
            ]
          },
          "metadata": {
            "tags": []
          },
          "execution_count": 6
        },
        {
          "output_type": "display_data",
          "data": {
            "image/png": "[encoded data removed]",
            "text/plain": [
              "<Figure size 432x288 with 2 Axes>"
            ]
          },
          "metadata": {
            "tags": [],
            "needs_background": "light"
          }
        }
      ]
    },
    {
      "cell_type": "markdown",
      "metadata": {
        "id": "17C812l9Pp4k"
      },
      "source": [
        "Let's first calculate the observed proportionate agreement $p_o$: \n",
        "\n",
        "$$p_o=\\frac{\\textrm{no in agreement}}{\\textrm{total}}$$"
      ]
    },
    {
      "cell_type": "code",
      "metadata": {
        "colab": {
          "base_uri": "https://localhost:8080/"
        },
        "id": "verNgLeoPeaH",
        "outputId": "4588944a-9c89-4fd8-d99f-7217a71b0961"
      },
      "source": [
        "import numpy as np \n",
        "total = np.sum(random_cm)\n",
        "random_p_o = (random_cm[0,0] + random_cm[1,1]) / total\n",
        "random_p_o"
      ],
      "execution_count": null,
      "outputs": [
        {
          "output_type": "execute_result",
          "data": {
            "text/plain": [
              "0.56"
            ]
          },
          "metadata": {
            "tags": []
          },
          "execution_count": 7
        }
      ]
    },
    {
      "cell_type": "code",
      "metadata": {
        "colab": {
          "base_uri": "https://localhost:8080/"
        },
        "id": "weA93Q3WD67R",
        "outputId": "3e876a58-6aab-4b9b-92a7-c78157149d2c"
      },
      "source": [
        "good_p_o = (good_cm[0,0]+ good_cm[1,1]) / total\n",
        "good_p_o"
      ],
      "execution_count": null,
      "outputs": [
        {
          "output_type": "execute_result",
          "data": {
            "text/plain": [
              "0.95"
            ]
          },
          "metadata": {
            "tags": []
          },
          "execution_count": 8
        }
      ]
    },
    {
      "cell_type": "markdown",
      "metadata": {
        "id": "kbKK568TPzY9"
      },
      "source": [
        "Now, let's calculate the probability of random agreement $p_e$. We first need to calculate the probabilities for each class separately (the probability that both raters would annotate as the same class at random): "
      ]
    },
    {
      "cell_type": "code",
      "metadata": {
        "colab": {
          "base_uri": "https://localhost:8080/"
        },
        "id": "RG-kjgccPywb",
        "outputId": "c73d56e5-c57d-4d48-f5ca-8ed52fd832e6"
      },
      "source": [
        "random_p_correct = ((random_cm[0,0] + random_cm[0,1]) / total) * ((random_cm[0,0]+ random_cm[1,0]) / total)\n",
        "random_p_incorrect = ((random_cm[1,0] + random_cm[1,1]) / total) * ((random_cm[1,1]+ random_cm[0,1]) / total)\n",
        "print(random_p_incorrect, random_p_correct)\n",
        "random_p_e = random_p_correct + random_p_incorrect\n",
        "print(random_p_e)"
      ],
      "execution_count": null,
      "outputs": [
        {
          "output_type": "stream",
          "text": [
            "0.2376 0.25760000000000005\n",
            "0.4952000000000001\n"
          ],
          "name": "stdout"
        }
      ]
    },
    {
      "cell_type": "code",
      "metadata": {
        "colab": {
          "base_uri": "https://localhost:8080/"
        },
        "id": "LVVp35JHEYyL",
        "outputId": "abb458f1-6961-4756-a286-6012497b664f"
      },
      "source": [
        "good_p_correct = ((good_cm[0,0] + good_cm[0,1]) / total) * ((good_cm[0,0] + good_cm[1,0]) /total)\n",
        "good_p_incorrect = ((good_cm[1,0] + good_cm[1,1]) / total) * ((good_cm[1,1] + good_cm[0,1]) /total)\n",
        "print(good_p_incorrect, good_p_correct)\n",
        "good_p_e = good_p_correct + good_p_incorrect\n",
        "print(good_p_e)"
      ],
      "execution_count": null,
      "outputs": [
        {
          "output_type": "stream",
          "text": [
            "0.33 0.18000000000000002\n",
            "0.51\n"
          ],
          "name": "stdout"
        }
      ]
    },
    {
      "cell_type": "markdown",
      "metadata": {
        "id": "7SRRNKFaQmb_"
      },
      "source": [
        "Now, we can calculate $\\kappa$: "
      ]
    },
    {
      "cell_type": "code",
      "metadata": {
        "colab": {
          "base_uri": "https://localhost:8080/"
        },
        "id": "HpshVRC-Ql9m",
        "outputId": "001ccaf4-375d-4d0a-e648-1c387fdf826e"
      },
      "source": [
        "random_kappa = (random_p_o-random_p_e)/(1-random_p_e)\n",
        "print(random_kappa)"
      ],
      "execution_count": null,
      "outputs": [
        {
          "output_type": "stream",
          "text": [
            "0.12836767036450075\n"
          ],
          "name": "stdout"
        }
      ]
    },
    {
      "cell_type": "code",
      "metadata": {
        "colab": {
          "base_uri": "https://localhost:8080/"
        },
        "id": "710YPy7vExse",
        "outputId": "4355fb1b-4cd7-44c9-e4df-d05aff6c75ef"
      },
      "source": [
        "good_kappa = (good_p_o-good_p_e)/(1-good_p_e)\n",
        "print(good_kappa)"
      ],
      "execution_count": null,
      "outputs": [
        {
          "output_type": "stream",
          "text": [
            "0.8979591836734693\n"
          ],
          "name": "stdout"
        }
      ]
    },
    {
      "cell_type": "markdown",
      "metadata": {
        "id": "vtdXalKnLgu_"
      },
      "source": [
        "What can we say?  \n",
        "\n",
        "| Kappa     | Agreement                  |\n",
        "|-----------|----------------------------|\n",
        "| < 0         | Less than chance agreement |\n",
        "| 0.01-0.20 | Slight agreement           |\n",
        "| 0.21-0.40 | Fair agreement             |\n",
        "| 0.41-0.60 | Moderate agreement         |\n",
        "| 0.61-0.80 | Substantial agreement      |\n",
        "| 0.81-0.99 | Almost perfect agreement   |\n"
      ]
    },
    {
      "cell_type": "markdown",
      "metadata": {
        "id": "7bgRuxZfIskJ"
      },
      "source": [
        "We can make our lives easier by using NLTK's implementation of Cohen's Kappa. Here is how to do that. NLTK provides other inter-annotator agreement coefficients like Krippendorff's Alpha and Fleiss' Kappa. "
      ]
    },
    {
      "cell_type": "code",
      "metadata": {
        "id": "Y0mIQZdhhcg7"
      },
      "source": [
        "from nltk.metrics.agreement import AnnotationTask"
      ],
      "execution_count": null,
      "outputs": []
    },
    {
      "cell_type": "code",
      "metadata": {
        "id": "U9SBHvVIhk4a"
      },
      "source": [
        "random_data = []\n",
        "for i, ann in enumerate(random_annotator1):\n",
        "  random_data.append((str(1), str(i), ann))\n",
        "\n",
        "for i, ann in enumerate(random_annotator2):\n",
        "  random_data.append((str(2), str(i), ann))"
      ],
      "execution_count": null,
      "outputs": []
    },
    {
      "cell_type": "code",
      "metadata": {
        "id": "SXABINDvhgPY",
        "colab": {
          "base_uri": "https://localhost:8080/"
        },
        "outputId": "c306a230-5f9b-47f9-c27d-fbd44722ac58"
      },
      "source": [
        "random_task = AnnotationTask(random_data)\n",
        "random_task.kappa()"
      ],
      "execution_count": null,
      "outputs": [
        {
          "output_type": "execute_result",
          "data": {
            "text/plain": [
              "0.12836767036450075"
            ]
          },
          "metadata": {
            "tags": []
          },
          "execution_count": 15
        }
      ]
    },
    {
      "cell_type": "code",
      "metadata": {
        "id": "tLNRx-ftFBac"
      },
      "source": [
        "good_data = []\n",
        "for i, ann in enumerate(good_annotator1):\n",
        "  good_data.append((str(1), str(i), ann)) \n",
        "\n",
        "for i, ann in enumerate(good_annotator2):\n",
        "  good_data.append((str(2), str(i), ann))"
      ],
      "execution_count": null,
      "outputs": []
    },
    {
      "cell_type": "code",
      "metadata": {
        "colab": {
          "base_uri": "https://localhost:8080/"
        },
        "id": "okQzjVxUFI0w",
        "outputId": "84640648-21c7-4fb9-b979-d7c389586fb8"
      },
      "source": [
        "good_task = AnnotationTask(good_data)\n",
        "good_task.kappa()"
      ],
      "execution_count": null,
      "outputs": [
        {
          "output_type": "execute_result",
          "data": {
            "text/plain": [
              "0.8979591836734693"
            ]
          },
          "metadata": {
            "tags": []
          },
          "execution_count": 17
        }
      ]
    }
  ]
}