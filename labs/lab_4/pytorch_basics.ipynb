{
  "nbformat": 4,
  "nbformat_minor": 0,
  "metadata": {
    "colab": {
      "name": "pytorch_basics.ipynb",
      "provenance": []
    },
    "kernelspec": {
      "name": "python3",
      "display_name": "Python 3"
    },
    "accelerator": "GPU"
  },
  "cells": [
    {
      "cell_type": "markdown",
      "metadata": {
        "id": "USwo3xiuQGgJ"
      },
      "source": [
        "# PyTorch Basics\r\n",
        "\r\n",
        "In this course we will be using open-source Python deep-learning library called PyTorch. It can be used for two different things: \r\n",
        "* Replacing NumPy-like operations with GPU-accelerated operations\r\n",
        "* Building deep neural networks\r\n",
        "\r\n",
        "PyTorch is popular as it is quite easy to use. Pytorch uses dynamic computation, which allows greater flexibility in building complext arcitectures. \r\n",
        "\r\n",
        "You can get a pretty good overview from those two books: \r\n",
        "\r\n",
        "1. [PyTorch Recipes A Problem-Solution Approach by Pradeepta Mishra](https://www.oreilly.com/library/view/pytorch-recipes-a/9781484242582/)\r\n",
        "2. [Deep Learning with PyTorch A practical approach to building neural network models using PyTorch by Vishnu Subramanian](https://www.amazon.com/Deep-Learning-PyTorch-practical-approach-ebook/dp/B078THDX3J)\r\n",
        "## Tensors\r\n",
        "\r\n",
        "At the core of the library is the tensor, which is a mathematical object holding some multidimensional data. A tensor of order zero is just a number or a scalar. A tensor of order one is an array of numbers or a vector. Similarly, a 2nd-order tensor is any array of vectors, or a matrx.\r\n",
        "\r\n",
        "<img src=\"https://lh3.googleusercontent.com/pw/ACtC-3dgV3eW8Ua1-pqoDrIY584g6vUqdshdedf8JEUWgtqgEx7dfm5fclYlGqzF5RX3ldCEuFP996EXd0k7cNPZpbr8VdZZMItVDPj60fV8Edz9i2iOMQ3Xr7Ah4l8XcnoIc0i_gyoV9RL5lhbaCMnrjhn3_g=w813-h283-no?authuser=0\" >\r\n",
        "\r\n",
        "You can read about different tensor operations [here](https://pytorch.org/docs/stable/torch.html#tensor-creation-ops). "
      ]
    },
    {
      "cell_type": "code",
      "metadata": {
        "id": "gnYUo9LkQEQ-"
      },
      "source": [
        "import torch\r\n",
        "import torch.nn as nn\r\n",
        "import numpy as np\r\n",
        "\r\n",
        "\r\n",
        "def describe(x): \r\n",
        "  print(\"Type: {}\".format(x.type()))\r\n",
        "  print(\"Shape/size: {}\".format(x.size()))\r\n",
        "  print(\"Values: \\n{}\".format(x))"
      ],
      "execution_count": 1,
      "outputs": []
    },
    {
      "cell_type": "markdown",
      "metadata": {
        "id": "t2RkoG7YRoJ3"
      },
      "source": [
        "There are multiple ways of initializing tensors. First, we can create a tensor from a list: "
      ]
    },
    {
      "cell_type": "code",
      "metadata": {
        "colab": {
          "base_uri": "https://localhost:8080/"
        },
        "id": "_Fp-JDdkRpHo",
        "outputId": "3ab8b257-9da5-4e31-d199-b736f237d1f1"
      },
      "source": [
        "random_tensor = torch.tensor([2,3,4])\r\n",
        "describe(random_tensor)"
      ],
      "execution_count": null,
      "outputs": [
        {
          "output_type": "stream",
          "text": [
            "Type: torch.LongTensor\n",
            "Shape/size: torch.Size([3])\n",
            "Values: \n",
            "tensor([2, 3, 4])\n"
          ],
          "name": "stdout"
        }
      ]
    },
    {
      "cell_type": "markdown",
      "metadata": {
        "id": "x97PtpqiSgwY"
      },
      "source": [
        "Or we can randomly initialize it with values from a uniform distribution on the interval [0,1) or the standard normal distribution. "
      ]
    },
    {
      "cell_type": "code",
      "metadata": {
        "id": "RlyMa5NEOmVz",
        "colab": {
          "base_uri": "https://localhost:8080/"
        },
        "outputId": "0ed72552-7613-4191-d4da-e854e235fe55"
      },
      "source": [
        "random_uniform = torch.rand(2,3)\r\n",
        "random_normal = torch.randn(2,3)\r\n",
        "describe(random_uniform)\r\n",
        "describe(random_normal)"
      ],
      "execution_count": null,
      "outputs": [
        {
          "output_type": "stream",
          "text": [
            "Type: torch.FloatTensor\n",
            "Shape/size: torch.Size([2, 3])\n",
            "Values: \n",
            "tensor([[0.5173, 0.5643, 0.2244],\n",
            "        [0.9338, 0.0426, 0.6800]])\n",
            "Type: torch.FloatTensor\n",
            "Shape/size: torch.Size([2, 3])\n",
            "Values: \n",
            "tensor([[ 1.3073,  0.0671, -0.8754],\n",
            "        [ 0.0386, -0.7225, -0.4477]])\n"
          ],
          "name": "stdout"
        }
      ]
    },
    {
      "cell_type": "markdown",
      "metadata": {
        "id": "UjnZiYxXSoVw"
      },
      "source": [
        "We can also create tensors all filled with the same scalar."
      ]
    },
    {
      "cell_type": "code",
      "metadata": {
        "colab": {
          "base_uri": "https://localhost:8080/"
        },
        "id": "oNi8RtP9SqrJ",
        "outputId": "9275f34c-68f0-4760-8fc7-4b065578991e"
      },
      "source": [
        "x = torch.zeros(2,3)\r\n",
        "describe(x)\r\n",
        "x.fill_(5)\r\n",
        "describe(x)"
      ],
      "execution_count": null,
      "outputs": [
        {
          "output_type": "stream",
          "text": [
            "Type: torch.FloatTensor\n",
            "Shape/size: torch.Size([2, 3])\n",
            "Values: \n",
            "tensor([[0., 0., 0.],\n",
            "        [0., 0., 0.]])\n",
            "Type: torch.FloatTensor\n",
            "Shape/size: torch.Size([2, 3])\n",
            "Values: \n",
            "tensor([[5., 5., 5.],\n",
            "        [5., 5., 5.]])\n"
          ],
          "name": "stdout"
        }
      ]
    },
    {
      "cell_type": "markdown",
      "metadata": {
        "id": "GUVvsg20S1JC"
      },
      "source": [
        "We can also create tensors from NumPy arrays."
      ]
    },
    {
      "cell_type": "code",
      "metadata": {
        "colab": {
          "base_uri": "https://localhost:8080/"
        },
        "id": "b4_xwkdHS0nH",
        "outputId": "2998bc9c-f35d-45d4-b0b1-dc637f6ddabb"
      },
      "source": [
        "npy = np.random.rand(2,3)\r\n",
        "describe(torch.from_numpy(npy))"
      ],
      "execution_count": null,
      "outputs": [
        {
          "output_type": "stream",
          "text": [
            "Type: torch.DoubleTensor\n",
            "Shape/size: torch.Size([2, 3])\n",
            "Values: \n",
            "tensor([[0.4708, 0.6415, 0.1301],\n",
            "        [0.3058, 0.3595, 0.9019]], dtype=torch.float64)\n"
          ],
          "name": "stdout"
        }
      ]
    },
    {
      "cell_type": "markdown",
      "metadata": {
        "id": "K4ji2osYS7mh"
      },
      "source": [
        "As we saw from the output of the describe function, each tensor has a type and size. The default type when you use the torch.Tensor constructor is torch.FloatTensor. You can convert a tensor to a different type by specifying it in at initialization or later on. You need to specify it with by providing dtype."
      ]
    },
    {
      "cell_type": "code",
      "metadata": {
        "colab": {
          "base_uri": "https://localhost:8080/"
        },
        "id": "CGl9Wgj5S8cu",
        "outputId": "5229ceec-bd90-4a5d-cb19-4a0d5843a8aa"
      },
      "source": [
        "x = torch.tensor([1,2,3], dtype=torch.int32)\r\n",
        "describe(x)"
      ],
      "execution_count": null,
      "outputs": [
        {
          "output_type": "stream",
          "text": [
            "Type: torch.IntTensor\n",
            "Shape/size: torch.Size([3])\n",
            "Values: \n",
            "tensor([1, 2, 3], dtype=torch.int32)\n"
          ],
          "name": "stdout"
        }
      ]
    },
    {
      "cell_type": "markdown",
      "metadata": {
        "id": "uTmlwaepTCzC"
      },
      "source": [
        "You can now operate on tensors using traditional operators like +, -, * etc or functions like .add().\r\n",
        "\r\n"
      ]
    },
    {
      "cell_type": "code",
      "metadata": {
        "colab": {
          "base_uri": "https://localhost:8080/"
        },
        "id": "jpzUeoa0TDB7",
        "outputId": "56ae549a-0081-4177-8bb6-99b3d5dfbd4a"
      },
      "source": [
        "x = torch.rand(2,3)\r\n",
        "y = torch.rand(2,3)\r\n",
        "describe(x+y)\r\n",
        "describe(torch.add(x,y))"
      ],
      "execution_count": null,
      "outputs": [
        {
          "output_type": "stream",
          "text": [
            "Type: torch.FloatTensor\n",
            "Shape/size: torch.Size([2, 3])\n",
            "Values: \n",
            "tensor([[1.1815, 1.2577, 1.1170],\n",
            "        [1.2105, 0.5809, 0.6621]])\n",
            "Type: torch.FloatTensor\n",
            "Shape/size: torch.Size([2, 3])\n",
            "Values: \n",
            "tensor([[1.1815, 1.2577, 1.1170],\n",
            "        [1.2105, 0.5809, 0.6621]])\n"
          ],
          "name": "stdout"
        }
      ]
    },
    {
      "cell_type": "markdown",
      "metadata": {
        "id": "7PX-lQ5kToib"
      },
      "source": [
        "### Slicing and indexing\r\n",
        "\r\n",
        "A common thing to do with a tensor is to slice a portion of it. "
      ]
    },
    {
      "cell_type": "code",
      "metadata": {
        "colab": {
          "base_uri": "https://localhost:8080/"
        },
        "id": "AswAMrOqUdY9",
        "outputId": "beb477c9-30c1-461d-caa2-dfac7cdfe45c"
      },
      "source": [
        "x = torch.FloatTensor([1,2,3,4,5,6,7,8,9,10])\r\n",
        "print(x)\r\n",
        "print(x[:5]) # first five elements\r\n",
        "print(x[5:]) # last fice elements\r\n",
        "print(x[4]) # one element from specific index"
      ],
      "execution_count": null,
      "outputs": [
        {
          "output_type": "stream",
          "text": [
            "tensor([ 1.,  2.,  3.,  4.,  5.,  6.,  7.,  8.,  9., 10.])\n",
            "tensor([1., 2., 3., 4., 5.])\n",
            "tensor([ 6.,  7.,  8.,  9., 10.])\n",
            "tensor(5.)\n"
          ],
          "name": "stdout"
        }
      ]
    },
    {
      "cell_type": "markdown",
      "metadata": {
        "id": "QOkwowRJVE-v"
      },
      "source": [
        "Most of the PyTorch tensor operations are very similar to NumPy operations. \r\n",
        "\r\n",
        "### Tensors on GPU\r\n",
        "\r\n",
        "All the tensor operations can be performed either CPU or GPU. We can move any tensor to the GPU by calling the *.cuda()* function. Let's compare the performance of tensor matrix multiplication on CPU and GPU. (To use GPU on Google Colab, you need to change the runtime type to GPU from Insert->Change runtime type->GPU). "
      ]
    },
    {
      "cell_type": "code",
      "metadata": {
        "colab": {
          "base_uri": "https://localhost:8080/"
        },
        "id": "CkiJ2UyAitmJ",
        "outputId": "5296e6f5-8ced-47aa-81f9-e922ebd38b78"
      },
      "source": [
        "%%time\r\n",
        "a = torch.rand(10000, 10000)\r\n",
        "b = torch.rand(10000, 10000)\r\n",
        "a.matmul(b)"
      ],
      "execution_count": 2,
      "outputs": [
        {
          "output_type": "stream",
          "text": [
            "CPU times: user 24.5 s, sys: 488 ms, total: 24.9 s\n",
            "Wall time: 25 s\n"
          ],
          "name": "stdout"
        }
      ]
    },
    {
      "cell_type": "code",
      "metadata": {
        "colab": {
          "base_uri": "https://localhost:8080/"
        },
        "id": "Vrjpnxh5jn8O",
        "outputId": "11e84e88-67d6-4555-b3a2-3dbfe9b9e1b6"
      },
      "source": [
        "%%time\r\n",
        "# move the tensor to GPU\r\n",
        "a = a.cuda()\r\n",
        "b = b.cuda()\r\n",
        "a.matmul(b)"
      ],
      "execution_count": 3,
      "outputs": [
        {
          "output_type": "stream",
          "text": [
            "CPU times: user 2.41 s, sys: 1.18 s, total: 3.59 s\n",
            "Wall time: 10.8 s\n"
          ],
          "name": "stdout"
        }
      ]
    },
    {
      "cell_type": "markdown",
      "metadata": {
        "id": "BBA0hH_-VWcB"
      },
      "source": [
        "### Variables\r\n",
        "\r\n",
        "Deep learning algorithms are often represented as computation graphs. Simple example is presented below. Lets try to build this in our example to get a better understanding.\r\n",
        "\r\n",
        "<img src=\"https://lh3.googleusercontent.com/pw/ACtC-3c3AregiepwMkD-eBPLBN6MliNDSk1RQlHt3Ehatjo7PVv0OzLTQpvFy8LnDZqzgGtGogqgq0O49RtHb9LgHjelnxaDMKTQrfQm_H1TPKx5KkA_UddRSk_u1VEP8eBa7TrrA2j8zQKr7qnh_glq_lIDEg=w756-h341-no?authuser=0\">\r\n",
        "\r\n",
        "A variable forms a thin wrapper around a tensor object, its gradients, and a reference to the function that created it. The following figure shows Variable class components: \r\n",
        "<img src=\"https://lh3.googleusercontent.com/PNrvIpdnCm8HPM-NTI9zvgOCy8hDG6tXax-PJcfxmePerbGMOz6QdM0EmSJ309RjOIUaJWIb-RaqXqRHrCK4zKYRmuwIsMriIsBoHkSBJGj4t6WGFbDLFPAK6PjBOJ8SOmybSZh2-VTc__HvxGTiiHXBWabmvo5iNrzrg_fBoiCix1z3-AxeFI_zdXVlkA7UkIwxQBYjzQTownyJKoX8H_lUnoFyP590OSxkIBlZ5BIh8XXyDa-o-DT6HYZpDBBTNfxgTDL3rh_6lcnamIARjQNTeLBN1EXmUry9wC5QbbKfbH-FtEYnFzzSFI0qnojOnq-fAeqQs29iQs_CZANB56c6RjUwXgAvvH9Cvu6z2p9KhSl3PACujWBnbbs9_Z5s9q3XqTnPmD2cbDyZ89mSVtMsjvAFqC0WeYqZRPOmSfJzDSMR79fN6kxqATUKyAzsX-DTKusXt4u_3-EfqNRaJT87bACTyarlh2yD-pzMaYw2V_V5oIK7HKip3ptMui_4sioE-TqgDfzxIBBua3wG2dvC95lXPGEq9a6YjcYCCAaXzQN7-AXUTb_n1xnikeOZUyAVnYfjV8BgdhnfN-W5ZkaQjTDzf1025mUmk1WEJX5stj2ONELQyp1O3JOEAxewi9r71F1cjXMJqM4eiBExaf3OGUwV-aFkM1i-W2TDqRb3u63Pu62A1b3SQqt8nw=w655-h128-no?authuser=0\">\r\n",
        "\r\n",
        "The gradients refer to the rate of the change of the loss function with respect to various parameters (W,b). For example, if the gradient of a is 2, then any change in the value of a would modify the value of Y by two times. By default, the gradients of the variables are none. \r\n",
        "\r\n",
        "Apart from gradients, a variable also has a reference to the function that created it, which in\r\n",
        "turn refers to how each variable was created. For example, the variable B has information\r\n",
        "that it is generated as a result of the product between 9 and 8. "
      ]
    },
    {
      "cell_type": "code",
      "metadata": {
        "colab": {
          "base_uri": "https://localhost:8080/"
        },
        "id": "t2-femTFZzV_",
        "outputId": "d045b509-e93d-4441-f642-35dcc9d15567"
      },
      "source": [
        "x = torch.autograd.Variable(torch.ones(2,2), requires_grad=True)\r\n",
        "y = x.mean()\r\n",
        "\r\n",
        "y.backward() # computing the gradients\r\n",
        "\r\n",
        "print(x.grad)\r\n",
        "print(x.grad_fn) # points to the function it created\r\n",
        "print(x.data)\r\n",
        "print(y.grad_fn) # points to the function it created"
      ],
      "execution_count": 35,
      "outputs": [
        {
          "output_type": "stream",
          "text": [
            "tensor([[0.2500, 0.2500],\n",
            "        [0.2500, 0.2500]])\n",
            "None\n",
            "tensor([[1., 1.],\n",
            "        [1., 1.]])\n",
            "<MeanBackward0 object at 0x7fe3f95fbe50>\n"
          ],
          "name": "stdout"
        }
      ]
    },
    {
      "cell_type": "markdown",
      "metadata": {
        "id": "vTizcQpKanz8"
      },
      "source": [
        "**Creating data for our neural network**\r\n"
      ]
    },
    {
      "cell_type": "code",
      "metadata": {
        "id": "6ZUcOhOHasSH"
      },
      "source": [
        "import numpy as np \r\n",
        "def get_data(): \r\n",
        "  train_X = np.asarray([3.3, 4.4, 5.5, 6.71, 6.93, 4.168, 9.779, 6.182, 7.59, 2.167,\r\n",
        "                        7.042, 10.791, 5.313, 7.997, 5.654, 9.27, 3.1])\r\n",
        "  train_Y = np.asarray([1.7, 2.76, 2.09, 3.19, 1.694, 1.573,  3.366, 2.596, 2.53, 1.221, \r\n",
        "                        2.827, 3.465, 1.65, 2.904, 2.42, 2.94, 1.3])\r\n",
        "  dtype = torch.FloatTensor\r\n",
        "  X = torch.autograd.Variable(torch.from_numpy(train_X).type(dtype), requires_grad=False).view(17,1)\r\n",
        "  y = torch.autograd.Variable(torch.from_numpy(train_Y).type(dtype), requires_grad=False)\r\n",
        "  return X,y"
      ],
      "execution_count": 42,
      "outputs": []
    },
    {
      "cell_type": "markdown",
      "metadata": {
        "id": "wB1HsOt3b43z"
      },
      "source": [
        "In the example, we have two learnable parameters, w and b, and two fixed parameters x and y. We have created variables x and y, now we need w and b. Learnable parameters are created using random initialization and have the require_grad parameter set to True. "
      ]
    },
    {
      "cell_type": "code",
      "metadata": {
        "id": "u1-WY7-EcO4o"
      },
      "source": [
        "def get_weights():\r\n",
        "  w = torch.autograd.Variable(torch.randn(1), requires_grad=True)\r\n",
        "  b = torch.autograd.Variable(torch.randn(1), requires_grad=True)\r\n",
        "  return w, b"
      ],
      "execution_count": 43,
      "outputs": []
    },
    {
      "cell_type": "markdown",
      "metadata": {
        "id": "gu66r9QtcscL"
      },
      "source": [
        "Now, we have defined the inputs and outputs of the model using PyTorch variables. Next, we have to build a model which learns how to map the outputs from the inputs. In our example, we implement a simple neural network which tries to map the inputs to outputs assuming a linear relationship. The linear relationship can be represented as y=wx+b, where w and b are learnable parameters. "
      ]
    },
    {
      "cell_type": "code",
      "metadata": {
        "id": "nyAqlzk3dGfC"
      },
      "source": [
        "def simple_network(x):\r\n",
        "  y_pred = torch.matmul(x,w) + b\r\n",
        "  return y_pred"
      ],
      "execution_count": 38,
      "outputs": []
    },
    {
      "cell_type": "markdown",
      "metadata": {
        "id": "cwaso9VndOuB"
      },
      "source": [
        "PyTorch also provides a higher-level abstraction in torch.nn called layers, which will take care of most of these underlying initialization and operations associated with most of the common techniques available in the neural network. \r\n",
        "The previous model can be represented as follows: \r\n",
        "\r\n",
        "f = nn.Linear(17,1) \r\n",
        "\r\n",
        "Now, we need a loss function to know how good our model is. \r\n",
        "As we start with random learnable parameters w and b, results in y_pred will not be close to the actual y. Since we are dealing with regression, we use a loss function called sum of squared error (SSE). "
      ]
    },
    {
      "cell_type": "code",
      "metadata": {
        "id": "IOXMp36id5F9"
      },
      "source": [
        "def loss_fn(y, y_pred): \r\n",
        "  loss = (y_pred-y).pow(2).sum()\r\n",
        "  for param in [w,b]:\r\n",
        "    if not param.grad is None: param.grad.data.zero_()\r\n",
        "  loss.backward()\r\n",
        "  return loss.data"
      ],
      "execution_count": 45,
      "outputs": []
    },
    {
      "cell_type": "markdown",
      "metadata": {
        "id": "cxxbZ1fieF6m"
      },
      "source": [
        "In this loss function we also calculate the gradients of our learnable parameters w and b. As we will use the loss function more than once, we remove any previously calculated gradients by calling the grad.data.zero_() operation. First time we call backward function, the gradients are empty, so we zero them when they are not None. \r\n",
        "\r\n",
        "Now, we need to optimize our neural network. Once the loss is calculated, we optimize the values with the calculate gradients so that the loss reduces, which is implemented in the following function: \r\n"
      ]
    },
    {
      "cell_type": "code",
      "metadata": {
        "id": "mhPLttNXe22F"
      },
      "source": [
        "def optimize(learning_rate):\r\n",
        "  w.data -= learning_rate * w.grad.data \r\n",
        "  b.data -= learning_rate * b.grad.data"
      ],
      "execution_count": 40,
      "outputs": []
    },
    {
      "cell_type": "markdown",
      "metadata": {
        "id": "T-W6Trmre_2Z"
      },
      "source": [
        "The learning rate is a hyper-parameter, which allows us to adjust the values in the variables by a small amount of the gradients, where the gradients denote the direction in which each variable (w and b) needs to be adjusted. \r\n",
        "torch.optim package has already implemented many different optimizers like Adam, RmsProp and SGD. "
      ]
    },
    {
      "cell_type": "code",
      "metadata": {
        "id": "JkhRPlGmfZDz"
      },
      "source": [
        "x, y = get_data()\r\n",
        "w,b = get_weights()\r\n",
        "preds = simple_network(x)\r\n",
        "loss = loss_fn(y, preds)\r\n",
        "optimize(0.002)"
      ],
      "execution_count": 68,
      "outputs": []
    },
    {
      "cell_type": "code",
      "metadata": {
        "id": "joojpjixf4uo"
      },
      "source": [
        "losses = []\r\n",
        "for i in range(200):\r\n",
        "  preds = simple_network(x)\r\n",
        "  loss = loss_fn(y, preds)\r\n",
        "  losses.append(loss)\r\n",
        "  optimize(0.0002)"
      ],
      "execution_count": 69,
      "outputs": []
    },
    {
      "cell_type": "code",
      "metadata": {
        "colab": {
          "base_uri": "https://localhost:8080/",
          "height": 296
        },
        "id": "0Xd5-6pNhEau",
        "outputId": "7fe64179-1022-47b7-f462-ad4f6c3e8b1c"
      },
      "source": [
        "import  matplotlib.pyplot as plt \r\n",
        "plt.plot(losses)\r\n",
        "plt.xlabel(\"epochs\")\r\n",
        "plt.ylabel(\"loss\")"
      ],
      "execution_count": 73,
      "outputs": [
        {
          "output_type": "execute_result",
          "data": {
            "text/plain": [
              "Text(0, 0.5, 'loss')"
            ]
          },
          "metadata": {
            "tags": []
          },
          "execution_count": 73
        },
        {
          "output_type": "display_data",
          "data": {
            "image/png": "[encoded data removed]",
            "text/plain": [
              "<Figure size 432x288 with 1 Axes>"
            ]
          },
          "metadata": {
            "tags": [],
            "needs_background": "light"
          }
        }
      ]
    },
    {
      "cell_type": "code",
      "metadata": {
        "colab": {
          "base_uri": "https://localhost:8080/",
          "height": 296
        },
        "id": "GncpDarogZLu",
        "outputId": "6a6ea1bb-aa08-4a58-c4fc-97db2e07f3a1"
      },
      "source": [
        "predictions = preds.detach().numpy()\r\n",
        "plt.scatter(x, y, color=\"red\")\r\n",
        "plt.plot(x, predictions)\r\n",
        "plt.xlabel(\"x\")\r\n",
        "plt.ylabel(\"y\")"
      ],
      "execution_count": 76,
      "outputs": [
        {
          "output_type": "execute_result",
          "data": {
            "text/plain": [
              "Text(0, 0.5, 'y')"
            ]
          },
          "metadata": {
            "tags": []
          },
          "execution_count": 76
        },
        {
          "output_type": "display_data",
          "data": {
            "image/png": "[encoded data removed]",
            "text/plain": [
              "<Figure size 432x288 with 1 Axes>"
            ]
          },
          "metadata": {
            "tags": [],
            "needs_background": "light"
          }
        }
      ]
    }
  ]
}