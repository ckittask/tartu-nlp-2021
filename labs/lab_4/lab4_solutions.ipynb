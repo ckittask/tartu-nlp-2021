{
  "nbformat": 4,
  "nbformat_minor": 0,
  "metadata": {
    "colab": {
      "name": "lab4_solutions.ipynb",
      "provenance": [],
      "toc_visible": true
    },
    "kernelspec": {
      "name": "python3",
      "display_name": "Python 3"
    }
  },
  "cells": [
    {
      "cell_type": "markdown",
      "metadata": {
        "id": "5XqEdofUHCwa"
      },
      "source": [
        "# Lab 4: Word Embeddings\r\n",
        "\r\n",
        "Welcome to lab 4! In todays lab we will be looking how to represent a word as a dense vectors. In the homework you will be learn more about the long sparse vectors. \r\n",
        "\r\n",
        "Word embeddings are popular way of representing text data in problems that are solved by deep learning algorithms. It provides a short dense representaion of a word filled with floating numbers. The hypothesis behind word embeddings is simple: words that occur in the same contexts tend to have similar meanings. \r\n",
        "\r\n",
        "\r\n",
        "## Initializing Embeddings\r\n",
        "\r\n",
        "One way to create word embeddings is to start with dense vectors for each token containing random numbers, and then train a model such as a document classifier. After training you will end up with the trained embeddings and model. \r\n",
        "\r\n",
        "\r\n",
        "PyTorch has a class for that called Embedding, which is a simple lookup table that stores embeddings of a fixed dictionary and size. You can initialize them randomly or from a pretrained embeddings. \r\n",
        "\r\n",
        "To initialize the embedding we need to define the dimension of the vector.Usually the dimension varies according to the vocabulary size. It is quite common to use a word embedding of dimension size 50, 100, 256, 300 and sometimes 1000. As the dimension size is a hyper-parameter, we need to play with it during the training phase.\r\n",
        "\r\n"
      ]
    },
    {
      "cell_type": "code",
      "metadata": {
        "id": "Fu7lgSESIpUm",
        "colab": {
          "base_uri": "https://localhost:8080/"
        },
        "outputId": "b919157f-0c6f-4227-ff67-24fe7abd13cf"
      },
      "source": [
        "import torch\r\n",
        "import torch.nn as nn\r\n",
        "\r\n",
        "torch.manual_seed(1234)"
      ],
      "execution_count": null,
      "outputs": [
        {
          "output_type": "execute_result",
          "data": {
            "text/plain": [
              "<torch._C.Generator at 0x7f1e54fa8170>"
            ]
          },
          "metadata": {
            "tags": []
          },
          "execution_count": 1
        }
      ]
    },
    {
      "cell_type": "code",
      "metadata": {
        "id": "XSMimY6DIyNK",
        "colab": {
          "base_uri": "https://localhost:8080/"
        },
        "outputId": "07ce9d17-346d-44c8-ea2a-d308a7a4b2bc"
      },
      "source": [
        "word_to_ix = {\"natural\":0, \"language\":1, \"processing\":2}\r\n",
        "word_to_ix"
      ],
      "execution_count": null,
      "outputs": [
        {
          "output_type": "execute_result",
          "data": {
            "text/plain": [
              "{'language': 1, 'natural': 0, 'processing': 2}"
            ]
          },
          "metadata": {
            "tags": []
          },
          "execution_count": 2
        }
      ]
    },
    {
      "cell_type": "code",
      "metadata": {
        "id": "wfe0zNR4I4kJ",
        "colab": {
          "base_uri": "https://localhost:8080/"
        },
        "outputId": "9ae0fff1-276e-4145-b230-24be89e75c02"
      },
      "source": [
        "embeddings = nn.Embedding(3, 5) # three words in vocab, 5 dimensional embeddings\r\n",
        "embeddings "
      ],
      "execution_count": null,
      "outputs": [
        {
          "output_type": "execute_result",
          "data": {
            "text/plain": [
              "Embedding(3, 5)"
            ]
          },
          "metadata": {
            "tags": []
          },
          "execution_count": 3
        }
      ]
    },
    {
      "cell_type": "code",
      "metadata": {
        "id": "qJSsQtl0JByg",
        "colab": {
          "base_uri": "https://localhost:8080/"
        },
        "outputId": "6c54ba5f-9ffc-42e3-de2c-fdafcf32b803"
      },
      "source": [
        "# lets create a lookup tensor for word \"natural\"\r\n",
        "lookup_tensor = torch.tensor(word_to_ix[\"natural\"], dtype=torch.long)\r\n",
        "lookup_tensor"
      ],
      "execution_count": null,
      "outputs": [
        {
          "output_type": "execute_result",
          "data": {
            "text/plain": [
              "tensor(0)"
            ]
          },
          "metadata": {
            "tags": []
          },
          "execution_count": 4
        }
      ]
    },
    {
      "cell_type": "markdown",
      "metadata": {
        "id": "ZkJx-Le4JM4x"
      },
      "source": [
        "The following sets up an embedding layer:"
      ]
    },
    {
      "cell_type": "code",
      "metadata": {
        "id": "3DM3PyxAJMWD",
        "colab": {
          "base_uri": "https://localhost:8080/"
        },
        "outputId": "576181eb-ba20-473f-a931-1c043683841e"
      },
      "source": [
        "emb_layer = embeddings(lookup_tensor)\r\n",
        "emb_layer"
      ],
      "execution_count": null,
      "outputs": [
        {
          "output_type": "execute_result",
          "data": {
            "text/plain": [
              "tensor([ 0.0461,  0.4024, -1.0115,  0.2167, -0.6123],\n",
              "       grad_fn=<EmbeddingBackward>)"
            ]
          },
          "metadata": {
            "tags": []
          },
          "execution_count": 5
        }
      ]
    },
    {
      "cell_type": "markdown",
      "metadata": {
        "id": "ur1TvVRzIxgz"
      },
      "source": [
        "### Loading pretrained word embeddings \r\n",
        "\r\n",
        "Training your own word embeddings would be useful when we are working in specific domains such as medicine and manufacturing, where we have lot of data to train the embeddings. When we have little data on which we cannot meaningfully train the embeddings, we can use embeddings, which are trained on different data corpuses such as Wikipedia, Google News etc. \r\n",
        "\r\n",
        "There are many pretrained word embeddings available: Word2Vec, fastText, GloVe, ELMo. We can use these embeddings to initialize the weights instead of initializing them randomly. \r\n",
        "\r\n",
        "When you download the pretrained word embeddings, they usually look like this: \r\n",
        "\r\n",
        "say_VERB -0.008861 0.097097 0.100236 0.070044 -0.079279 0.000923 -0.012829 0.064301 -0.029405 -0.009858 ...<br>\r\n",
        "go_VERB 0.010490 0.094733 0.143699 0.040344 -0.103710 -0.000016 -0.014351 0.019653 0.069472 -0.046938 ...<br>\r\n",
        "make_VERB -0.013029 0.038892 0.008581 0.056925 -0.100181 0.011566 -0.072478 0.156239 0.038442 -0.073817 ... <br>\r\n",
        "thirty-six_NUM 0.058545 0.089598 0.052056 0.013421 -0.022304 -0.056648 -0.017670 0.095910 -0.028729 ..."
      ]
    },
    {
      "cell_type": "code",
      "metadata": {
        "colab": {
          "base_uri": "https://localhost:8080/"
        },
        "id": "sqQeiU5V8HpT",
        "outputId": "df744d79-e4c9-484d-bbc8-1f33e192d65c"
      },
      "source": [
        "weight = torch.FloatTensor([[1, 1.2, 3,], [5,1.4,3.2]])\r\n",
        "embedding = nn.Embedding.from_pretrained(weight)\r\n",
        "input = torch.LongTensor([1]) # get for index 1\r\n",
        "embedding(input)"
      ],
      "execution_count": null,
      "outputs": [
        {
          "output_type": "execute_result",
          "data": {
            "text/plain": [
              "tensor([[5.0000, 1.4000, 3.2000]])"
            ]
          },
          "metadata": {
            "tags": []
          },
          "execution_count": 6
        }
      ]
    },
    {
      "cell_type": "markdown",
      "metadata": {
        "id": "IkzRI-jv8hOY"
      },
      "source": [
        "We can download embeddings with torchtext.vocab: "
      ]
    },
    {
      "cell_type": "code",
      "metadata": {
        "id": "ZhBT3HIQ8p0l",
        "colab": {
          "base_uri": "https://localhost:8080/"
        },
        "outputId": "703ff311-1d03-4c13-ab5e-6dfdc2b9647f"
      },
      "source": [
        "from torchtext.vocab import GloVe \r\n",
        "vectors = GloVe(name='6B', dim=100)"
      ],
      "execution_count": null,
      "outputs": [
        {
          "output_type": "stream",
          "text": [
            ".vector_cache/glove.6B.zip: 862MB [02:41, 5.34MB/s]                           \n",
            "100%|█████████▉| 399055/400000 [00:18<00:00, 21792.62it/s]"
          ],
          "name": "stderr"
        }
      ]
    },
    {
      "cell_type": "markdown",
      "metadata": {
        "id": "2ZACYQjJHyu4"
      },
      "source": [
        "Let's look inside: "
      ]
    },
    {
      "cell_type": "code",
      "metadata": {
        "colab": {
          "base_uri": "https://localhost:8080/"
        },
        "id": "1WPilfje8sEj",
        "outputId": "24136fa7-8669-42a2-9112-5e656cf8fbef"
      },
      "source": [
        "vectors[\"chicken\"]"
      ],
      "execution_count": null,
      "outputs": [
        {
          "output_type": "execute_result",
          "data": {
            "text/plain": [
              "tensor([-0.3194,  0.6435,  0.0617, -0.2347, -0.4667,  0.4594,  0.8097,  0.2657,\n",
              "         0.1744, -0.2897, -0.7720,  0.2944,  1.1188,  0.5489, -0.2323,  0.6268,\n",
              "        -0.1981, -0.3967,  0.0751,  0.1399,  0.3052,  0.8838, -0.0324, -0.9825,\n",
              "         0.6157,  1.6974,  0.1439, -0.1822, -0.5754,  0.5123, -0.0438,  0.9043,\n",
              "         0.5499, -0.2778, -0.0383,  0.8688,  0.0274, -0.0621, -0.1154, -1.1948,\n",
              "         0.9122, -1.3764, -0.6007, -1.2390,  0.7174,  0.0060, -1.2784, -0.6036,\n",
              "         0.0875, -0.9329, -0.3817,  0.1532, -0.0295,  0.5951, -1.3351, -0.8525,\n",
              "        -0.2539,  0.1549,  0.6360,  0.4603,  0.1127,  0.7312,  0.7924,  0.6403,\n",
              "         0.8722, -0.1492, -0.3729, -0.0899, -0.3083,  0.1444, -0.2168,  0.4361,\n",
              "         0.2724,  1.1278,  0.2743,  0.5571, -0.9089,  0.2880,  0.4200,  0.9972,\n",
              "         0.6990, -0.3730, -0.4469,  0.7007, -0.4779, -0.3068, -0.1777,  0.7048,\n",
              "         0.0186,  0.2088,  0.1604,  0.1789, -0.3458, -0.5430, -1.3805, -0.8760,\n",
              "         0.3000, -0.6880,  0.7075, -0.0533])"
            ]
          },
          "metadata": {
            "tags": []
          },
          "execution_count": 8
        }
      ]
    },
    {
      "cell_type": "code",
      "metadata": {
        "colab": {
          "base_uri": "https://localhost:8080/"
        },
        "id": "Whx6Wr5zdvhh",
        "outputId": "35955f1a-f952-4e51-c3f5-c554d3d277a0"
      },
      "source": [
        "vectors[\"Chicken\"]"
      ],
      "execution_count": null,
      "outputs": [
        {
          "output_type": "execute_result",
          "data": {
            "text/plain": [
              "tensor([0., 0., 0., 0., 0., 0., 0., 0., 0., 0., 0., 0., 0., 0., 0., 0., 0., 0., 0., 0., 0., 0., 0., 0.,\n",
              "        0., 0., 0., 0., 0., 0., 0., 0., 0., 0., 0., 0., 0., 0., 0., 0., 0., 0., 0., 0., 0., 0., 0., 0.,\n",
              "        0., 0., 0., 0., 0., 0., 0., 0., 0., 0., 0., 0., 0., 0., 0., 0., 0., 0., 0., 0., 0., 0., 0., 0.,\n",
              "        0., 0., 0., 0., 0., 0., 0., 0., 0., 0., 0., 0., 0., 0., 0., 0., 0., 0., 0., 0., 0., 0., 0., 0.,\n",
              "        0., 0., 0., 0.])"
            ]
          },
          "metadata": {
            "tags": []
          },
          "execution_count": 9
        }
      ]
    },
    {
      "cell_type": "markdown",
      "metadata": {
        "id": "BlCbCS0E6o2k"
      },
      "source": [
        "## Training Word Embeddings\r\n",
        "\r\n",
        "We can train our own word embeddings using different algorithms. Word2Vec provides two different algorithms: Continuous Bag-Of-Words and Skip-Gram. Both are shown graphically in the image below. \r\n",
        "<img src=\"https://miro.medium.com/max/2400/1*cuOmGT7NevP9oJFJfVpRKA.png\">\r\n",
        "Continues Bag-Of-Words predicts the center word given the context. Skip-Gram predicts the context words given the center word as an input. \r\n",
        "\r\n",
        "You can read more about these algorithms from the original article: [Tomas Mikolov et al: Efficient Estimation of Word Representations in Vector Space, Tomas Mikolov et al: Distributed Representations of Words and Phrases and their Compositionality.](https://arxiv.org/abs/1310.4546)\r\n",
        "\r\n",
        "We can use Gensim to train Word2Vec embeddings. "
      ]
    },
    {
      "cell_type": "code",
      "metadata": {
        "id": "PNq-4IPiFoER"
      },
      "source": [
        "from gensim.models import Word2Vec\r\n",
        "import spacy\r\n",
        "nlp = spacy.load('en_core_web_sm')\r\n",
        "\r\n",
        "data = open(\"structure_and_functions_of_the_body.txt\", 'r', encoding='utf-8').read()\r\n",
        "doc = nlp(data)\r\n"
      ],
      "execution_count": null,
      "outputs": []
    },
    {
      "cell_type": "code",
      "metadata": {
        "id": "9KzL8zALIdvI"
      },
      "source": [
        "texts = [ [token.lemma_ for token in sent if token.lemma_!='-PRON-'] for sent in doc.sents]"
      ],
      "execution_count": null,
      "outputs": []
    },
    {
      "cell_type": "code",
      "metadata": {
        "id": "GisDxBqJI8p9",
        "colab": {
          "base_uri": "https://localhost:8080/"
        },
        "outputId": "373f55c4-6ffb-4469-d795-69c69082fb92"
      },
      "source": [
        "texts[2]"
      ],
      "execution_count": null,
      "outputs": [
        {
          "output_type": "execute_result",
          "data": {
            "text/plain": [
              "['Most',\n",
              " 'of',\n",
              " ',',\n",
              " 'moreover',\n",
              " ',',\n",
              " 'separate',\n",
              " 'the',\n",
              " 'anatomy',\n",
              " 'from',\n",
              " 'the',\n",
              " '\\n',\n",
              " 'physiology',\n",
              " 'and',\n",
              " 'all',\n",
              " 'treat',\n",
              " 'the',\n",
              " 'different',\n",
              " 'system',\n",
              " 'of',\n",
              " 'tissue',\n",
              " 'separately',\n",
              " ',',\n",
              " '\\n']"
            ]
          },
          "metadata": {
            "tags": []
          },
          "execution_count": 14
        }
      ]
    },
    {
      "cell_type": "code",
      "metadata": {
        "id": "XUmkhMVRGm-w"
      },
      "source": [
        "import multiprocessing\r\n",
        "cores = multiprocessing.cpu_count()\r\n",
        "\r\n",
        "model = Word2Vec(size=100, window=2, min_count=5, workers=cores-1, negative=10)"
      ],
      "execution_count": null,
      "outputs": []
    },
    {
      "cell_type": "markdown",
      "metadata": {
        "id": "HTwycrDMKJV4"
      },
      "source": [
        "Now we need to build the vocabulary table."
      ]
    },
    {
      "cell_type": "code",
      "metadata": {
        "id": "xUeMbHkHKObY"
      },
      "source": [
        "model.build_vocab(texts)"
      ],
      "execution_count": null,
      "outputs": []
    },
    {
      "cell_type": "markdown",
      "metadata": {
        "id": "TPdTTIDlKdEO"
      },
      "source": [
        "Let's train the model. "
      ]
    },
    {
      "cell_type": "code",
      "metadata": {
        "colab": {
          "base_uri": "https://localhost:8080/"
        },
        "id": "-Ky2AUhwKgAf",
        "outputId": "f2d98f70-381a-413d-a651-66584d249d6f"
      },
      "source": [
        "model.train(texts, total_examples=model.corpus_count, epochs=100, report_delay=1)"
      ],
      "execution_count": null,
      "outputs": [
        {
          "output_type": "execute_result",
          "data": {
            "text/plain": [
              "(4516570, 8388900)"
            ]
          },
          "metadata": {
            "tags": []
          },
          "execution_count": 17
        }
      ]
    },
    {
      "cell_type": "code",
      "metadata": {
        "id": "2cNgPBZYKwSL"
      },
      "source": [
        "model.init_sims(replace=True) # saves memory (cannot continue training after doing)"
      ],
      "execution_count": null,
      "outputs": []
    },
    {
      "cell_type": "markdown",
      "metadata": {
        "id": "u_5z7c2-K0qP"
      },
      "source": [
        "Let's expore this model. We can ask the model what are the similar words: "
      ]
    },
    {
      "cell_type": "code",
      "metadata": {
        "colab": {
          "base_uri": "https://localhost:8080/"
        },
        "id": "-bismiK0LBfe",
        "outputId": "76424d4c-08c6-4158-ddce-8ad9c61eba0c"
      },
      "source": [
        "model.wv.most_similar(positive=[\"body\"])"
      ],
      "execution_count": null,
      "outputs": [
        {
          "output_type": "execute_result",
          "data": {
            "text/plain": [
              "[('air', 0.34284690022468567),\n",
              " ('same', 0.3393501341342926),\n",
              " ('intestine', 0.3342682421207428),\n",
              " ('case', 0.3135792911052704),\n",
              " ('other', 0.3043676018714905),\n",
              " ('place', 0.3041819930076599),\n",
              " ('state', 0.2922523319721222),\n",
              " ('oxygen', 0.2879457473754883),\n",
              " ('fetus', 0.28457996249198914),\n",
              " ('development', 0.2835215926170349)]"
            ]
          },
          "metadata": {
            "tags": []
          },
          "execution_count": 19
        }
      ]
    },
    {
      "cell_type": "code",
      "metadata": {
        "colab": {
          "base_uri": "https://localhost:8080/"
        },
        "id": "bmdVCaF7LExb",
        "outputId": "a3262739-fe96-4f17-f99c-f91bfbe71922"
      },
      "source": [
        "model.wv.most_similar(positive=[\"body\", \"muscle\"])"
      ],
      "execution_count": null,
      "outputs": [
        {
          "output_type": "execute_result",
          "data": {
            "text/plain": [
              "[('intestine', 0.3504788875579834),\n",
              " ('hand', 0.34708523750305176),\n",
              " ('case', 0.3384869396686554),\n",
              " ('femur', 0.3340495526790619),\n",
              " ('bicep', 0.331558495759964),\n",
              " ('latter', 0.3288252055644989),\n",
              " ('sphincter', 0.32769477367401123),\n",
              " ('head', 0.32016849517822266),\n",
              " ('fiber', 0.31714192032814026),\n",
              " ('same', 0.3093774914741516)]"
            ]
          },
          "metadata": {
            "tags": []
          },
          "execution_count": 20
        }
      ]
    },
    {
      "cell_type": "code",
      "metadata": {
        "colab": {
          "base_uri": "https://localhost:8080/",
          "height": 89
        },
        "id": "4K8bihOSLKwU",
        "outputId": "34560899-bce0-48d2-a95f-1abf63095a13"
      },
      "source": [
        "# odd one out\r\n",
        "model.wv.doesnt_match(['fiber', 'motion', 'muscle'])"
      ],
      "execution_count": null,
      "outputs": [
        {
          "output_type": "stream",
          "text": [
            "/usr/local/lib/python3.7/dist-packages/gensim/models/keyedvectors.py:895: FutureWarning: arrays to stack must be passed as a \"sequence\" type such as list or tuple. Support for non-sequence iterables such as generators is deprecated as of NumPy 1.16 and will raise an error in the future.\n",
            "  vectors = vstack(self.word_vec(word, use_norm=True) for word in used_words).astype(REAL)\n"
          ],
          "name": "stderr"
        },
        {
          "output_type": "execute_result",
          "data": {
            "application/vnd.google.colaboratory.intrinsic+json": {
              "type": "string"
            },
            "text/plain": [
              "'motion'"
            ]
          },
          "metadata": {
            "tags": []
          },
          "execution_count": 21
        }
      ]
    },
    {
      "cell_type": "markdown",
      "metadata": {
        "id": "oRUuAQCvgL9H"
      },
      "source": [
        "## Issues with Word2Vec embeddings\r\n",
        "\r\n",
        "As, Word2Vec creates emebdding for each word seen in the training data, it cannot handle words that it did not encounter during training. This leaves us with many out of vocabulary words. "
      ]
    },
    {
      "cell_type": "code",
      "metadata": {
        "id": "cAFmwzX0goUG",
        "colab": {
          "base_uri": "https://localhost:8080/",
          "height": 357
        },
        "outputId": "53273f0b-b22b-49ef-edd9-441ec955bd98"
      },
      "source": [
        "# not existing in the the embeddings \r\n",
        "model[\"chicken\"]"
      ],
      "execution_count": null,
      "outputs": [
        {
          "output_type": "stream",
          "text": [
            "/usr/local/lib/python3.7/dist-packages/ipykernel_launcher.py:2: DeprecationWarning: Call to deprecated `__getitem__` (Method will be removed in 4.0.0, use self.wv.__getitem__() instead).\n",
            "  \n"
          ],
          "name": "stderr"
        },
        {
          "output_type": "error",
          "ename": "KeyError",
          "evalue": "ignored",
          "traceback": [
            "\u001b[0;31m---------------------------------------------------------------------------\u001b[0m",
            "\u001b[0;31mKeyError\u001b[0m                                  Traceback (most recent call last)",
            "\u001b[0;32m<ipython-input-22-744c63321f46>\u001b[0m in \u001b[0;36m<module>\u001b[0;34m()\u001b[0m\n\u001b[1;32m      1\u001b[0m \u001b[0;31m# not existing in the the embeddings\u001b[0m\u001b[0;34m\u001b[0m\u001b[0;34m\u001b[0m\u001b[0;34m\u001b[0m\u001b[0m\n\u001b[0;32m----> 2\u001b[0;31m \u001b[0mmodel\u001b[0m\u001b[0;34m[\u001b[0m\u001b[0;34m\"chicken\"\u001b[0m\u001b[0;34m]\u001b[0m\u001b[0;34m\u001b[0m\u001b[0;34m\u001b[0m\u001b[0m\n\u001b[0m",
            "\u001b[0;32m/usr/local/lib/python3.7/dist-packages/gensim/utils.py\u001b[0m in \u001b[0;36mnew_func1\u001b[0;34m(*args, **kwargs)\u001b[0m\n\u001b[1;32m   1420\u001b[0m                     \u001b[0mstacklevel\u001b[0m\u001b[0;34m=\u001b[0m\u001b[0;36m2\u001b[0m\u001b[0;34m\u001b[0m\u001b[0;34m\u001b[0m\u001b[0m\n\u001b[1;32m   1421\u001b[0m                 )\n\u001b[0;32m-> 1422\u001b[0;31m                 \u001b[0;32mreturn\u001b[0m \u001b[0mfunc\u001b[0m\u001b[0;34m(\u001b[0m\u001b[0;34m*\u001b[0m\u001b[0margs\u001b[0m\u001b[0;34m,\u001b[0m \u001b[0;34m**\u001b[0m\u001b[0mkwargs\u001b[0m\u001b[0;34m)\u001b[0m\u001b[0;34m\u001b[0m\u001b[0;34m\u001b[0m\u001b[0m\n\u001b[0m\u001b[1;32m   1423\u001b[0m \u001b[0;34m\u001b[0m\u001b[0m\n\u001b[1;32m   1424\u001b[0m             \u001b[0;32mreturn\u001b[0m \u001b[0mnew_func1\u001b[0m\u001b[0;34m\u001b[0m\u001b[0;34m\u001b[0m\u001b[0m\n",
            "\u001b[0;32m/usr/local/lib/python3.7/dist-packages/gensim/models/word2vec.py\u001b[0m in \u001b[0;36m__getitem__\u001b[0;34m(self, words)\u001b[0m\n\u001b[1;32m   1101\u001b[0m \u001b[0;34m\u001b[0m\u001b[0m\n\u001b[1;32m   1102\u001b[0m         \"\"\"\n\u001b[0;32m-> 1103\u001b[0;31m         \u001b[0;32mreturn\u001b[0m \u001b[0mself\u001b[0m\u001b[0;34m.\u001b[0m\u001b[0mwv\u001b[0m\u001b[0;34m.\u001b[0m\u001b[0m__getitem__\u001b[0m\u001b[0;34m(\u001b[0m\u001b[0mwords\u001b[0m\u001b[0;34m)\u001b[0m\u001b[0;34m\u001b[0m\u001b[0;34m\u001b[0m\u001b[0m\n\u001b[0m\u001b[1;32m   1104\u001b[0m \u001b[0;34m\u001b[0m\u001b[0m\n\u001b[1;32m   1105\u001b[0m     \u001b[0;34m@\u001b[0m\u001b[0mdeprecated\u001b[0m\u001b[0;34m(\u001b[0m\u001b[0;34m\"Method will be removed in 4.0.0, use self.wv.__contains__() instead\"\u001b[0m\u001b[0;34m)\u001b[0m\u001b[0;34m\u001b[0m\u001b[0;34m\u001b[0m\u001b[0m\n",
            "\u001b[0;32m/usr/local/lib/python3.7/dist-packages/gensim/models/keyedvectors.py\u001b[0m in \u001b[0;36m__getitem__\u001b[0;34m(self, entities)\u001b[0m\n\u001b[1;32m    335\u001b[0m         \u001b[0;32mif\u001b[0m \u001b[0misinstance\u001b[0m\u001b[0;34m(\u001b[0m\u001b[0mentities\u001b[0m\u001b[0;34m,\u001b[0m \u001b[0mstring_types\u001b[0m\u001b[0;34m)\u001b[0m\u001b[0;34m:\u001b[0m\u001b[0;34m\u001b[0m\u001b[0;34m\u001b[0m\u001b[0m\n\u001b[1;32m    336\u001b[0m             \u001b[0;31m# allow calls like trained_model['office'], as a shorthand for trained_model[['office']]\u001b[0m\u001b[0;34m\u001b[0m\u001b[0;34m\u001b[0m\u001b[0;34m\u001b[0m\u001b[0m\n\u001b[0;32m--> 337\u001b[0;31m             \u001b[0;32mreturn\u001b[0m \u001b[0mself\u001b[0m\u001b[0;34m.\u001b[0m\u001b[0mget_vector\u001b[0m\u001b[0;34m(\u001b[0m\u001b[0mentities\u001b[0m\u001b[0;34m)\u001b[0m\u001b[0;34m\u001b[0m\u001b[0;34m\u001b[0m\u001b[0m\n\u001b[0m\u001b[1;32m    338\u001b[0m \u001b[0;34m\u001b[0m\u001b[0m\n\u001b[1;32m    339\u001b[0m         \u001b[0;32mreturn\u001b[0m \u001b[0mvstack\u001b[0m\u001b[0;34m(\u001b[0m\u001b[0;34m[\u001b[0m\u001b[0mself\u001b[0m\u001b[0;34m.\u001b[0m\u001b[0mget_vector\u001b[0m\u001b[0;34m(\u001b[0m\u001b[0mentity\u001b[0m\u001b[0;34m)\u001b[0m \u001b[0;32mfor\u001b[0m \u001b[0mentity\u001b[0m \u001b[0;32min\u001b[0m \u001b[0mentities\u001b[0m\u001b[0;34m]\u001b[0m\u001b[0;34m)\u001b[0m\u001b[0;34m\u001b[0m\u001b[0;34m\u001b[0m\u001b[0m\n",
            "\u001b[0;32m/usr/local/lib/python3.7/dist-packages/gensim/models/keyedvectors.py\u001b[0m in \u001b[0;36mget_vector\u001b[0;34m(self, word)\u001b[0m\n\u001b[1;32m    453\u001b[0m \u001b[0;34m\u001b[0m\u001b[0m\n\u001b[1;32m    454\u001b[0m     \u001b[0;32mdef\u001b[0m \u001b[0mget_vector\u001b[0m\u001b[0;34m(\u001b[0m\u001b[0mself\u001b[0m\u001b[0;34m,\u001b[0m \u001b[0mword\u001b[0m\u001b[0;34m)\u001b[0m\u001b[0;34m:\u001b[0m\u001b[0;34m\u001b[0m\u001b[0;34m\u001b[0m\u001b[0m\n\u001b[0;32m--> 455\u001b[0;31m         \u001b[0;32mreturn\u001b[0m \u001b[0mself\u001b[0m\u001b[0;34m.\u001b[0m\u001b[0mword_vec\u001b[0m\u001b[0;34m(\u001b[0m\u001b[0mword\u001b[0m\u001b[0;34m)\u001b[0m\u001b[0;34m\u001b[0m\u001b[0;34m\u001b[0m\u001b[0m\n\u001b[0m\u001b[1;32m    456\u001b[0m \u001b[0;34m\u001b[0m\u001b[0m\n\u001b[1;32m    457\u001b[0m     \u001b[0;32mdef\u001b[0m \u001b[0mwords_closer_than\u001b[0m\u001b[0;34m(\u001b[0m\u001b[0mself\u001b[0m\u001b[0;34m,\u001b[0m \u001b[0mw1\u001b[0m\u001b[0;34m,\u001b[0m \u001b[0mw2\u001b[0m\u001b[0;34m)\u001b[0m\u001b[0;34m:\u001b[0m\u001b[0;34m\u001b[0m\u001b[0;34m\u001b[0m\u001b[0m\n",
            "\u001b[0;32m/usr/local/lib/python3.7/dist-packages/gensim/models/keyedvectors.py\u001b[0m in \u001b[0;36mword_vec\u001b[0;34m(self, word, use_norm)\u001b[0m\n\u001b[1;32m    450\u001b[0m             \u001b[0;32mreturn\u001b[0m \u001b[0mresult\u001b[0m\u001b[0;34m\u001b[0m\u001b[0;34m\u001b[0m\u001b[0m\n\u001b[1;32m    451\u001b[0m         \u001b[0;32melse\u001b[0m\u001b[0;34m:\u001b[0m\u001b[0;34m\u001b[0m\u001b[0;34m\u001b[0m\u001b[0m\n\u001b[0;32m--> 452\u001b[0;31m             \u001b[0;32mraise\u001b[0m \u001b[0mKeyError\u001b[0m\u001b[0;34m(\u001b[0m\u001b[0;34m\"word '%s' not in vocabulary\"\u001b[0m \u001b[0;34m%\u001b[0m \u001b[0mword\u001b[0m\u001b[0;34m)\u001b[0m\u001b[0;34m\u001b[0m\u001b[0;34m\u001b[0m\u001b[0m\n\u001b[0m\u001b[1;32m    453\u001b[0m \u001b[0;34m\u001b[0m\u001b[0m\n\u001b[1;32m    454\u001b[0m     \u001b[0;32mdef\u001b[0m \u001b[0mget_vector\u001b[0m\u001b[0;34m(\u001b[0m\u001b[0mself\u001b[0m\u001b[0;34m,\u001b[0m \u001b[0mword\u001b[0m\u001b[0;34m)\u001b[0m\u001b[0;34m:\u001b[0m\u001b[0;34m\u001b[0m\u001b[0;34m\u001b[0m\u001b[0m\n",
            "\u001b[0;31mKeyError\u001b[0m: \"word 'chicken' not in vocabulary\""
          ]
        }
      ]
    },
    {
      "cell_type": "markdown",
      "metadata": {
        "id": "K_SXtYqNgt_q"
      },
      "source": [
        "Words can have many senses, meaning that depending on the context, word can take on different meanings. Let's consider the word *nail*. It could be a upper surface of the tip of the finger or small metal spike. Word2Vec only learns one representation of this word. \r\n",
        "\r\n",
        "**What can we use instead of that? **"
      ]
    },
    {
      "cell_type": "markdown",
      "metadata": {
        "id": "pYVdkaLShnXF"
      },
      "source": [
        "Another issue is with morphologically rich languages. \r\n",
        "\r\n"
      ]
    },
    {
      "cell_type": "markdown",
      "metadata": {
        "id": "GrsiM-l2h5Vh"
      },
      "source": [
        "## FastText\r\n",
        "\r\n",
        "To solve all of those issues, Bojanowski et al. proposed a new embedding methods called FastText. The main idea of FasText is the use of the internal structure of a word to improve vector representation obtained from skip-gram. \r\n",
        "\r\n",
        "Let's go over a simple example. We have a sentence \"I am drinking coffee.\" and we need to predict the context words \"am\" and \"coffee\" from the center word \"drinking\". \r\n",
        "1. The center word is split into character n-grams. Embedding fot the center word is the sum of the embeddings of the character n-grams and the word itself. \r\n",
        "2. Context words embeddings are directly taken from the embedding table (no n-grams are added). \r\n",
        "3. Collect negative samples. \r\n",
        "4. Dot product between the center and context words is taken and then sigmoid function is applied to this dot product to get a match score between 0 and 1. \r\n",
        "5. Embeddings are updated based on the loss. This will bring the actual context words closer to the center words and further from the negative samples."
      ]
    },
    {
      "cell_type": "code",
      "metadata": {
        "id": "l3Ka7rCxnprM"
      },
      "source": [
        "from gensim.models.fasttext import FastText\r\n",
        "model_ft = FastText(size=100)\r\n",
        "\r\n",
        "# build the vocabulary\r\n",
        "model_ft.build_vocab(texts)\r\n",
        "\r\n",
        "# train the model\r\n",
        "\r\n",
        "model_ft.train(sentences=texts, epochs=100, total_examples=model_ft.corpus_count, total_words=model_ft.corpus_total_words)"
      ],
      "execution_count": null,
      "outputs": []
    },
    {
      "cell_type": "code",
      "metadata": {
        "id": "xNyoDQIaoAR5",
        "colab": {
          "base_uri": "https://localhost:8080/"
        },
        "outputId": "706dcef9-b456-45d5-e644-8aaf29b3ff80"
      },
      "source": [
        "wv = model_ft.wv\r\n",
        "wv['chicken']"
      ],
      "execution_count": null,
      "outputs": [
        {
          "output_type": "execute_result",
          "data": {
            "text/plain": [
              "array([ 5.84540404e-02, -1.71275243e-01, -4.16463196e-01, -2.62860116e-02,\n",
              "       -4.49597865e-01,  1.43712914e+00,  8.19210410e-01,  1.10958207e+00,\n",
              "        1.45769030e-01, -2.78505474e-01, -3.66446495e-01,  5.04720628e-01,\n",
              "       -6.00762904e-01, -6.55672073e-01, -2.27815628e-01,  1.39593139e-01,\n",
              "        7.63777554e-01, -4.29498941e-01,  7.92346776e-01, -6.36529401e-02,\n",
              "       -6.27341270e-01, -1.01682234e+00, -3.43093306e-01,  3.37230295e-01,\n",
              "        7.19035923e-01,  4.84142214e-01, -4.50526446e-01, -3.02567095e-01,\n",
              "       -5.82112193e-01, -1.29428244e+00,  6.22869074e-01,  9.75813627e-01,\n",
              "       -1.37357628e-02, -7.38758981e-01,  1.18457162e+00,  2.62065291e-01,\n",
              "       -8.81629512e-02,  1.59774661e-01, -1.22859657e+00, -1.31248736e+00,\n",
              "       -9.62204397e-01, -1.30527115e+00, -2.00505972e-01,  6.23708010e-01,\n",
              "        3.11680466e-01,  1.23568738e+00,  1.17132699e+00,  4.75794345e-01,\n",
              "        1.90103307e-01,  4.72816199e-01, -2.50215977e-01,  3.78694266e-01,\n",
              "        8.06592047e-01, -1.91664502e-01,  3.07984859e-01, -1.17819059e+00,\n",
              "       -2.73720175e-01,  1.06073432e-01, -3.98329385e-02, -1.06448412e+00,\n",
              "       -2.26774886e-01, -2.58495927e-01, -7.36601889e-01,  5.40783465e-01,\n",
              "        1.24655211e+00,  6.31175280e-01,  8.57754350e-01, -5.60138643e-01,\n",
              "       -3.68922055e-01,  3.81164432e-01, -1.58864295e+00, -2.14121759e-01,\n",
              "       -6.52180076e-01,  4.58991408e-01,  1.36084938e-02,  8.64236832e-01,\n",
              "        3.96624863e-01,  7.53872931e-01,  6.27191424e-01, -1.58359468e-01,\n",
              "        5.49056083e-02, -5.34182182e-04,  2.73097634e-01, -1.48296610e-01,\n",
              "        1.58200538e+00,  1.08808005e+00, -2.83281624e-01, -2.60353297e-01,\n",
              "       -6.26213908e-01,  1.55312205e-02,  4.02215272e-01,  3.82557869e-01,\n",
              "        1.29761899e+00, -1.04471110e-01,  7.82830834e-01,  7.94138908e-01,\n",
              "       -6.74104750e-01, -3.38944614e-01, -6.56811297e-01,  4.04936433e-01],\n",
              "      dtype=float32)"
            ]
          },
          "metadata": {
            "tags": []
          },
          "execution_count": 24
        }
      ]
    },
    {
      "cell_type": "code",
      "metadata": {
        "id": "wJ_8b98JmH2S",
        "colab": {
          "base_uri": "https://localhost:8080/"
        },
        "outputId": "42e7cbdc-0517-480f-e35d-ed6b17378b30"
      },
      "source": [
        "wv.most_similar(positive=[\"body\", \"muscle\"])"
      ],
      "execution_count": null,
      "outputs": [
        {
          "output_type": "execute_result",
          "data": {
            "text/plain": [
              "[('corpuscle', 0.5593864321708679),\n",
              " ('Muscles', 0.506779134273529),\n",
              " ('numerous', 0.4341539740562439),\n",
              " ('manner', 0.418964147567749),\n",
              " ('contraction', 0.4000856280326843),\n",
              " ('constriction', 0.39654988050460815),\n",
              " ('action', 0.38593339920043945),\n",
              " ('portion', 0.38329970836639404),\n",
              " ('hand', 0.382585346698761),\n",
              " ('particle', 0.38190367817878723)]"
            ]
          },
          "metadata": {
            "tags": []
          },
          "execution_count": 25
        }
      ]
    },
    {
      "cell_type": "code",
      "metadata": {
        "id": "oVxMZJC5mMSD",
        "colab": {
          "base_uri": "https://localhost:8080/"
        },
        "outputId": "cc63cd3a-aebf-4f73-c5bb-544d64b3151b"
      },
      "source": [
        "wv.most_similar(positive=[\"body\"])"
      ],
      "execution_count": null,
      "outputs": [
        {
          "output_type": "execute_result",
          "data": {
            "text/plain": [
              "[('activity', 0.37730681896209717),\n",
              " ('absorption', 0.37398838996887207),\n",
              " ('nitrogenous', 0.3710705041885376),\n",
              " ('organ', 0.36998969316482544),\n",
              " ('nervous', 0.3642290234565735),\n",
              " ('numerous', 0.36146074533462524),\n",
              " ('plasma', 0.3611193001270294),\n",
              " ('active', 0.3418109118938446),\n",
              " ('formation', 0.341249942779541),\n",
              " ('every', 0.3340113162994385)]"
            ]
          },
          "metadata": {
            "tags": []
          },
          "execution_count": 26
        }
      ]
    }
  ]
}